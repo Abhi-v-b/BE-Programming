{
 "cells": [
  {
   "cell_type": "code",
   "execution_count": 3,
   "id": "10371dd8",
   "metadata": {},
   "outputs": [
    {
     "name": "stdout",
     "output_type": "stream",
     "text": [
      "Enter Number: 5\n",
      "The 5th Fibonacci number is 5.\n",
      "Execution time is: 2477.5893688201904ms\n"
     ]
    }
   ],
   "source": [
    "# Non-Recursive Approach\n",
    "import time\n",
    "\n",
    "start = time.time()\n",
    "\n",
    "def fibonacci_iterative(n):\n",
    "    if n <= 1:\n",
    "        return n\n",
    "    a, b = 0, 1\n",
    "    for i in range(2, n + 1):\n",
    "        a, b = b, a + b\n",
    "    return b\n",
    "\n",
    "# Example usage:\n",
    "n = int(input(\"Enter Number: \"))\n",
    "result = fibonacci_iterative(n)\n",
    "print(f\"The {n}th Fibonacci number is {result}.\")\n",
    "\n",
    "end = time.time()\n",
    "print(\"Execution time is: {}ms\".format((end-start)*10**3))"
   ]
  },
  {
   "cell_type": "code",
   "execution_count": 5,
   "id": "18e886c2",
   "metadata": {},
   "outputs": [
    {
     "name": "stdout",
     "output_type": "stream",
     "text": [
      "Enter Number: 5\n",
      "The 5th Fibonacci number is 5.\n",
      "Execution time is: 1600.611686706543ms\n"
     ]
    }
   ],
   "source": [
    "import time\n",
    "\n",
    "start = time.time()\n",
    "\n",
    "def fibonacci_recursive(n):\n",
    "    if n <= 1:\n",
    "        return n\n",
    "    return fibonacci_recursive(n - 1) + fibonacci_recursive(n - 2)\n",
    "\n",
    "# Example usage:\n",
    "n = int(input(\"Enter Number: \"))\n",
    "result = fibonacci_recursive(n)\n",
    "print(f\"The {n}th Fibonacci number is {result}.\")\n",
    "\n",
    "end = time.time()\n",
    "print(\"Execution time is: {}ms\".format((end-start)*10**3))"
   ]
  },
  {
   "cell_type": "code",
   "execution_count": null,
   "id": "9a77d9fb",
   "metadata": {},
   "outputs": [],
   "source": []
  }
 ],
 "metadata": {
  "kernelspec": {
   "display_name": "Python 3 (ipykernel)",
   "language": "python",
   "name": "python3"
  },
  "language_info": {
   "codemirror_mode": {
    "name": "ipython",
    "version": 3
   },
   "file_extension": ".py",
   "mimetype": "text/x-python",
   "name": "python",
   "nbconvert_exporter": "python",
   "pygments_lexer": "ipython3",
   "version": "3.10.9"
  }
 },
 "nbformat": 4,
 "nbformat_minor": 5
}
