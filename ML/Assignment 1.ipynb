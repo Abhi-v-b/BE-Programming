{
 "cells": [
  {
   "cell_type": "code",
   "execution_count": null,
   "id": "151138af",
   "metadata": {},
   "outputs": [],
   "source": [
    "import numpy as np\n",
    "import pandas as pd\n",
    "\n",
    "from sklearn.model_selection import train_test_split\n",
    "from sklearn.preprocessing import StandardScaler\n",
    "from sklearn.linear_model import LinearRegression\n",
    "from sklearn.ensemble import RandomForestRegressor\n",
    "\n",
    "from sklearn.metrics import r2_score\n",
    "from sklearn.metrics import mean_absolute_error\n",
    "from sklearn.metrics import mean_squared_error\n",
    "\n",
    "import seaborn as sns\n",
    "from math import sqrt\n",
    "import warnings\n",
    "warnings.filterwarnings('ignore')"
   ]
  },
  {
   "cell_type": "code",
   "execution_count": null,
   "id": "33c9b796",
   "metadata": {},
   "outputs": [],
   "source": [
    "data = pd.read_csv('uber.csv')\n",
    "data.head()"
   ]
  },
  {
   "cell_type": "code",
   "execution_count": null,
   "id": "5a7822f9",
   "metadata": {},
   "outputs": [],
   "source": [
    "data.shape"
   ]
  },
  {
   "cell_type": "markdown",
   "id": "ad91e5a2",
   "metadata": {},
   "source": [
    "# Data Preprocessing"
   ]
  },
  {
   "cell_type": "code",
   "execution_count": null,
   "id": "f9a09a2b",
   "metadata": {},
   "outputs": [],
   "source": [
    "data.isnull().sum()\n",
    "data.drop(columns='Unnamed: 0',inplace=True)"
   ]
  },
  {
   "cell_type": "code",
   "execution_count": null,
   "id": "da3709c1",
   "metadata": {},
   "outputs": [],
   "source": [
    "data = data.dropna() #to remove missing values. "
   ]
  },
  {
   "cell_type": "code",
   "execution_count": null,
   "id": "835cacfe",
   "metadata": {},
   "outputs": [],
   "source": [
    "data.drop_duplicates(inplace=True)\n",
    "data.head()"
   ]
  },
  {
   "cell_type": "code",
   "execution_count": null,
   "id": "5bfbcf21",
   "metadata": {},
   "outputs": [],
   "source": [
    "data.drop(columns=['key','pickup_datetime'],inplace=True)\n",
    "\n",
    "X = data.drop(['fare_amount'],axis=1)\n",
    "y = data['fare_amount']\n",
    "x_train,x_test,y_train,y_test = train_test_split(X,y,test_size=0.25,random_state=0)"
   ]
  },
  {
   "cell_type": "markdown",
   "id": "b63317cb",
   "metadata": {},
   "source": [
    "# Correlation"
   ]
  },
  {
   "cell_type": "code",
   "execution_count": null,
   "id": "15e3e823",
   "metadata": {},
   "outputs": [],
   "source": [
    "data.corr()"
   ]
  },
  {
   "cell_type": "markdown",
   "id": "0cd354d9",
   "metadata": {},
   "source": [
    "# Outliers Detection "
   ]
  },
  {
   "cell_type": "code",
   "execution_count": null,
   "id": "fa9dac48",
   "metadata": {},
   "outputs": [],
   "source": [
    "sns.boxplot(data['fare_amount'])"
   ]
  },
  {
   "cell_type": "code",
   "execution_count": null,
   "id": "2b035a87",
   "metadata": {},
   "outputs": [],
   "source": [
    "Q1 = np.percentile(data['fare_amount'], 25, interpolation = 'midpoint')\n",
    "Q3 = np.percentile(data['fare_amount'], 75, interpolation = 'midpoint')\n",
    "print(Q1,Q3)"
   ]
  },
  {
   "cell_type": "markdown",
   "id": "8915c8d1",
   "metadata": {},
   "source": [
    "# Outlier Treatment"
   ]
  },
  {
   "cell_type": "code",
   "execution_count": null,
   "id": "42882f65",
   "metadata": {},
   "outputs": [],
   "source": [
    "data.drop(data[data['fare_amount'].values>=12.5].index,inplace=True)\n",
    "sns.boxplot(data['fare_amount'])"
   ]
  },
  {
   "cell_type": "code",
   "execution_count": null,
   "id": "03bd064e",
   "metadata": {},
   "outputs": [],
   "source": [
    "linear_reg_model=LinearRegression()\n",
    "linear_reg_model.fit(x_train,y_train)\n",
    "y_pred_linear=linear_reg_model.predict(x_test)\n",
    "def evaluate_model(y_true, y_pred, model_name):\n",
    "    rmse = sqrt(mean_squared_error(y_true, y_pred))\n",
    "    r2 = r2_score(y_true, y_pred)\n",
    "    print(f\"{model_name} RMSE: {rmse:.2f}\")\n",
    "    print(f\"{model_name} R-squared (R2): {r2:.2f}\")\n",
    "\n",
    "print(\"Linear Regression Model:\")\n",
    "evaluate_model(y_test, y_pred_linear, \"Linear Regression\")"
   ]
  },
  {
   "cell_type": "code",
   "execution_count": null,
   "id": "72f9aa62",
   "metadata": {},
   "outputs": [],
   "source": [
    "rf_model = RandomForestRegressor(n_estimators=100, random_state=42)\n",
    "rf_model.fit(x_train, y_train)\n",
    "y_pred_rf = rf_model.predict(x_test)\n",
    "def evaluate_model(y_true, y_pred, model_name):\n",
    "    rmse = sqrt(mean_squared_error(y_true, y_pred))\n",
    "    r2 = r2_score(y_true, y_pred)\n",
    "    print(f\"{model_name} RMSE: {rmse:.2f}\")\n",
    "    print(f\"{model_name} R-squared (R2): {r2:.2f}\")\n",
    "\n",
    "print(\"\\nRandom Forest Regression Model:\")\n",
    "evaluate_model(y_test, y_pred_rf, \"Random Forest Regression\")"
   ]
  },
  {
   "cell_type": "code",
   "execution_count": null,
   "id": "2d9f492f",
   "metadata": {},
   "outputs": [],
   "source": []
  }
 ],
 "metadata": {
  "kernelspec": {
   "display_name": "Python 3 (ipykernel)",
   "language": "python",
   "name": "python3"
  },
  "language_info": {
   "codemirror_mode": {
    "name": "ipython",
    "version": 3
   },
   "file_extension": ".py",
   "mimetype": "text/x-python",
   "name": "python",
   "nbconvert_exporter": "python",
   "pygments_lexer": "ipython3",
   "version": "3.10.9"
  }
 },
 "nbformat": 4,
 "nbformat_minor": 5
}
